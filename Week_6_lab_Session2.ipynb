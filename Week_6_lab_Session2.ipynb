{
  "nbformat": 4,
  "nbformat_minor": 0,
  "metadata": {
    "colab": {
      "provenance": [],
      "include_colab_link": true
    },
    "kernelspec": {
      "name": "python3",
      "display_name": "Python 3"
    },
    "language_info": {
      "name": "python"
    }
  },
  "cells": [
    {
      "cell_type": "markdown",
      "metadata": {
        "id": "view-in-github",
        "colab_type": "text"
      },
      "source": [
        "<a href=\"https://colab.research.google.com/github/deujahritik/AI_midterm_12194824/blob/main/Week_6_lab_Session2.ipynb\" target=\"_parent\"><img src=\"https://colab.research.google.com/assets/colab-badge.svg\" alt=\"Open In Colab\"/></a>"
      ]
    },
    {
      "cell_type": "code",
      "execution_count": null,
      "metadata": {
        "colab": {
          "base_uri": "https://localhost:8080/",
          "height": 1000
        },
        "id": "78Vtc-CcxaUV",
        "outputId": "903c1758-1d56-406f-f2cf-9c4da6dea5a5"
      },
      "outputs": [
        {
          "output_type": "stream",
          "name": "stdout",
          "text": [
            "Looking in indexes: https://pypi.org/simple, https://us-python.pkg.dev/colab-wheels/public/simple/\n",
            "Collecting tensorflow==1.15.5\n",
            "  Downloading tensorflow-1.15.5-cp37-cp37m-manylinux2010_x86_64.whl (110.5 MB)\n",
            "\u001b[K     |████████████████████████████████| 110.5 MB 1.2 kB/s \n",
            "\u001b[?25hCollecting tensorflow-estimator==1.15.1\n",
            "  Downloading tensorflow_estimator-1.15.1-py2.py3-none-any.whl (503 kB)\n",
            "\u001b[K     |████████████████████████████████| 503 kB 55.6 MB/s \n",
            "\u001b[?25hCollecting numpy<1.19.0,>=1.16.0\n",
            "  Downloading numpy-1.18.5-cp37-cp37m-manylinux1_x86_64.whl (20.1 MB)\n",
            "\u001b[K     |████████████████████████████████| 20.1 MB 1.6 MB/s \n",
            "\u001b[?25hRequirement already satisfied: absl-py>=0.7.0 in /usr/local/lib/python3.7/dist-packages (from tensorflow==1.15.5) (1.2.0)\n",
            "Requirement already satisfied: keras-preprocessing>=1.0.5 in /usr/local/lib/python3.7/dist-packages (from tensorflow==1.15.5) (1.1.2)\n",
            "Collecting tensorboard<1.16.0,>=1.15.0\n",
            "  Downloading tensorboard-1.15.0-py3-none-any.whl (3.8 MB)\n",
            "\u001b[K     |████████████████████████████████| 3.8 MB 47.2 MB/s \n",
            "\u001b[?25hCollecting keras-applications>=1.0.8\n",
            "  Downloading Keras_Applications-1.0.8-py3-none-any.whl (50 kB)\n",
            "\u001b[K     |████████████████████████████████| 50 kB 7.7 MB/s \n",
            "\u001b[?25hCollecting h5py<=2.10.0\n",
            "  Downloading h5py-2.10.0-cp37-cp37m-manylinux1_x86_64.whl (2.9 MB)\n",
            "\u001b[K     |████████████████████████████████| 2.9 MB 43.5 MB/s \n",
            "\u001b[?25hCollecting gast==0.2.2\n",
            "  Downloading gast-0.2.2.tar.gz (10 kB)\n",
            "Requirement already satisfied: wheel>=0.26 in /usr/local/lib/python3.7/dist-packages (from tensorflow==1.15.5) (0.37.1)\n",
            "Requirement already satisfied: protobuf>=3.6.1 in /usr/local/lib/python3.7/dist-packages (from tensorflow==1.15.5) (3.17.3)\n",
            "Requirement already satisfied: astor>=0.6.0 in /usr/local/lib/python3.7/dist-packages (from tensorflow==1.15.5) (0.8.1)\n",
            "Requirement already satisfied: grpcio>=1.8.6 in /usr/local/lib/python3.7/dist-packages (from tensorflow==1.15.5) (1.48.1)\n",
            "Requirement already satisfied: opt-einsum>=2.3.2 in /usr/local/lib/python3.7/dist-packages (from tensorflow==1.15.5) (3.3.0)\n",
            "Requirement already satisfied: wrapt>=1.11.1 in /usr/local/lib/python3.7/dist-packages (from tensorflow==1.15.5) (1.14.1)\n",
            "Requirement already satisfied: google-pasta>=0.1.6 in /usr/local/lib/python3.7/dist-packages (from tensorflow==1.15.5) (0.2.0)\n",
            "Requirement already satisfied: six>=1.10.0 in /usr/local/lib/python3.7/dist-packages (from tensorflow==1.15.5) (1.15.0)\n",
            "Requirement already satisfied: termcolor>=1.1.0 in /usr/local/lib/python3.7/dist-packages (from tensorflow==1.15.5) (1.1.0)\n",
            "Requirement already satisfied: werkzeug>=0.11.15 in /usr/local/lib/python3.7/dist-packages (from tensorboard<1.16.0,>=1.15.0->tensorflow==1.15.5) (1.0.1)\n",
            "Requirement already satisfied: setuptools>=41.0.0 in /usr/local/lib/python3.7/dist-packages (from tensorboard<1.16.0,>=1.15.0->tensorflow==1.15.5) (57.4.0)\n",
            "Requirement already satisfied: markdown>=2.6.8 in /usr/local/lib/python3.7/dist-packages (from tensorboard<1.16.0,>=1.15.0->tensorflow==1.15.5) (3.4.1)\n",
            "Requirement already satisfied: importlib-metadata>=4.4 in /usr/local/lib/python3.7/dist-packages (from markdown>=2.6.8->tensorboard<1.16.0,>=1.15.0->tensorflow==1.15.5) (4.12.0)\n",
            "Requirement already satisfied: typing-extensions>=3.6.4 in /usr/local/lib/python3.7/dist-packages (from importlib-metadata>=4.4->markdown>=2.6.8->tensorboard<1.16.0,>=1.15.0->tensorflow==1.15.5) (4.1.1)\n",
            "Requirement already satisfied: zipp>=0.5 in /usr/local/lib/python3.7/dist-packages (from importlib-metadata>=4.4->markdown>=2.6.8->tensorboard<1.16.0,>=1.15.0->tensorflow==1.15.5) (3.8.1)\n",
            "Building wheels for collected packages: gast\n",
            "  Building wheel for gast (setup.py) ... \u001b[?25l\u001b[?25hdone\n",
            "  Created wheel for gast: filename=gast-0.2.2-py3-none-any.whl size=7554 sha256=32213863bd79ca5b64e26b9b0b45a3c98988db04e3cac1bdbdafbcb43116b5fc\n",
            "  Stored in directory: /root/.cache/pip/wheels/21/7f/02/420f32a803f7d0967b48dd823da3f558c5166991bfd204eef3\n",
            "Successfully built gast\n",
            "Installing collected packages: numpy, h5py, tensorflow-estimator, tensorboard, keras-applications, gast, tensorflow\n",
            "  Attempting uninstall: numpy\n",
            "    Found existing installation: numpy 1.21.6\n",
            "    Uninstalling numpy-1.21.6:\n",
            "      Successfully uninstalled numpy-1.21.6\n",
            "  Attempting uninstall: h5py\n",
            "    Found existing installation: h5py 3.1.0\n",
            "    Uninstalling h5py-3.1.0:\n",
            "      Successfully uninstalled h5py-3.1.0\n",
            "  Attempting uninstall: tensorflow-estimator\n",
            "    Found existing installation: tensorflow-estimator 2.8.0\n",
            "    Uninstalling tensorflow-estimator-2.8.0:\n",
            "      Successfully uninstalled tensorflow-estimator-2.8.0\n",
            "  Attempting uninstall: tensorboard\n",
            "    Found existing installation: tensorboard 2.8.0\n",
            "    Uninstalling tensorboard-2.8.0:\n",
            "      Successfully uninstalled tensorboard-2.8.0\n",
            "  Attempting uninstall: gast\n",
            "    Found existing installation: gast 0.5.3\n",
            "    Uninstalling gast-0.5.3:\n",
            "      Successfully uninstalled gast-0.5.3\n",
            "  Attempting uninstall: tensorflow\n",
            "    Found existing installation: tensorflow 2.8.2+zzzcolab20220719082949\n",
            "    Uninstalling tensorflow-2.8.2+zzzcolab20220719082949:\n",
            "      Successfully uninstalled tensorflow-2.8.2+zzzcolab20220719082949\n",
            "\u001b[31mERROR: pip's dependency resolver does not currently take into account all the packages that are installed. This behaviour is the source of the following dependency conflicts.\n",
            "xarray-einstats 0.2.2 requires numpy>=1.21, but you have numpy 1.18.5 which is incompatible.\n",
            "tensorflow-probability 0.16.0 requires gast>=0.3.2, but you have gast 0.2.2 which is incompatible.\n",
            "tables 3.7.0 requires numpy>=1.19.0, but you have numpy 1.18.5 which is incompatible.\n",
            "plotnine 0.8.0 requires numpy>=1.19.0, but you have numpy 1.18.5 which is incompatible.\n",
            "kapre 0.3.7 requires tensorflow>=2.0.0, but you have tensorflow 1.15.5 which is incompatible.\n",
            "jaxlib 0.3.15+cuda11.cudnn805 requires numpy>=1.19, but you have numpy 1.18.5 which is incompatible.\n",
            "jax 0.3.17 requires numpy>=1.20, but you have numpy 1.18.5 which is incompatible.\n",
            "cmdstanpy 1.0.7 requires numpy>=1.21, but you have numpy 1.18.5 which is incompatible.\u001b[0m\n",
            "Successfully installed gast-0.2.2 h5py-2.10.0 keras-applications-1.0.8 numpy-1.18.5 tensorboard-1.15.0 tensorflow-1.15.5 tensorflow-estimator-1.15.1\n"
          ]
        },
        {
          "output_type": "display_data",
          "data": {
            "application/vnd.colab-display-data+json": {
              "pip_warning": {
                "packages": [
                  "numpy"
                ]
              }
            }
          },
          "metadata": {}
        }
      ],
      "source": [
        "!pip install tensorflow==1.15.5"
      ]
    },
    {
      "cell_type": "code",
      "source": [
        "import os\n",
        "import numpy as np\n",
        "import zipfile\n",
        "from urllib import request\n",
        "import matplotlib.pyplot as plt\n",
        "import matplotlib.image as mpimg\n",
        "import random\n",
        "import tensorflow as tf\n",
        "import cv2\n"
      ],
      "metadata": {
        "id": "MOKuvANayXM9"
      },
      "execution_count": null,
      "outputs": []
    },
    {
      "cell_type": "code",
      "source": [
        "img_database = np.loadtxt('fashion-mnist_train.csv', delimiter=',', skiprows=1)[:,1:]\n",
        "#looking at the shape of the file\n",
        "print(img_database.shape)\n",
        "\n",
        "\n",
        "total_num_images = (img_database.shape[0])"
      ],
      "metadata": {
        "colab": {
          "base_uri": "https://localhost:8080/"
        },
        "id": "O8gQPSptzxkE",
        "outputId": "94fadc5e-3c28-4740-e8fb-a3d4ee573447"
      },
      "execution_count": null,
      "outputs": [
        {
          "output_type": "stream",
          "name": "stdout",
          "text": [
            "(60000, 784)\n"
          ]
        }
      ]
    },
    {
      "cell_type": "code",
      "source": [
        "n_input = 784 #Input image is of size 28 x 28\n",
        "hidden_layer_1 = 256\n",
        "hidden_layer_2 = 32\n",
        "hidden_layer_3 = 32\n",
        "hidden_layer_4 = 256\n",
        "output_layer = 784  #Same as the n_input dimension\n",
        "\n",
        "# Parameters\n",
        "learning_rate = 0.1\n",
        "epochs = 100\n",
        "batch_size = 100\n",
        "\n",
        "# Define the placeholders\n",
        "X = tf.placeholder(tf.float32, [None, n_input])\n",
        "Y = tf.placeholder(tf.float32, [None, output_layer])"
      ],
      "metadata": {
        "id": "h0foEfvzzlZe"
      },
      "execution_count": null,
      "outputs": []
    },
    {
      "cell_type": "code",
      "source": [
        "Weight_NN = {\"W1\": tf.Variable(tf.random_normal([n_input, hidden_layer_1])),\n",
        "             \"W2\": tf.Variable(tf.random_normal([hidden_layer_1, hidden_layer_2])),\n",
        "             \"W3\": tf.Variable(tf.random_normal([hidden_layer_2, hidden_layer_3])),\n",
        "             \"W4\": tf.Variable(tf.random_normal([hidden_layer_3, hidden_layer_4])),\n",
        "             \"W5\": tf.Variable(tf.random_normal([hidden_layer_4, output_layer]))\n",
        "             }\n",
        "Bias_NN = { \"B1\": tf.Variable(tf.random_normal([hidden_layer_1])),\n",
        "            \"B2\": tf.Variable(tf.random_normal([hidden_layer_2])),\n",
        "            \"B3\": tf.Variable(tf.random_normal([hidden_layer_3])),\n",
        "            \"B4\": tf.Variable(tf.random_normal([hidden_layer_4])),\n",
        "            \"B5\": tf.Variable(tf.random_normal([output_layer]))\n",
        "           }"
      ],
      "metadata": {
        "id": "_zOPp64m219G"
      },
      "execution_count": null,
      "outputs": []
    },
    {
      "cell_type": "code",
      "source": [
        "Z1 = tf.add(tf.matmul(X, Weight_NN[\"W1\"]), Bias_NN[\"B1\"])\n",
        "Z1_out = tf.nn.sigmoid(Z1)\n",
        "\n",
        "Z2 = tf.add(tf.matmul(Z1_out, Weight_NN[\"W2\"]), Bias_NN[\"B2\"])\n",
        "Z2_out = tf.nn.sigmoid(Z2)\n",
        "\n",
        "Z3 = tf.add(tf.matmul(Z2_out, Weight_NN[\"W3\"]), Bias_NN[\"B2\"])\n",
        "Z3_out = tf.nn.sigmoid(Z3)\n",
        "\n",
        "Z4 = tf.add(tf.matmul(Z3_out, Weight_NN[\"W4\"]), Bias_NN[\"B4\"])\n",
        "Z4_out = tf.nn.sigmoid(Z4)\n",
        "\n",
        "Z5 = tf.add(tf.matmul(Z4_out, Weight_NN[\"W5\"]), Bias_NN[\"B5\"])\n",
        "Z5_out = tf.nn.sigmoid(Z5)"
      ],
      "metadata": {
        "id": "PogXc5Ac276Q"
      },
      "execution_count": null,
      "outputs": []
    },
    {
      "cell_type": "code",
      "source": [
        "\n",
        "Z1 = tf.layers.dense(X, hidden_layer_1, activation = tf.nn.sigmoid)\n",
        "Z2 = tf.layers.dense(Z1, hidden_layer_2, activation = tf.nn.sigmoid)\n",
        "Z3 = tf.layers.dense(Z1, hidden_layer_3, activation = tf.nn.sigmoid)\n",
        "Z4 = tf.layers.dense(Z1, hidden_layer_4, activation = tf.nn.sigmoid)\n",
        "NN_output = tf.layers.dense(Z4, output_layer)"
      ],
      "metadata": {
        "colab": {
          "base_uri": "https://localhost:8080/"
        },
        "id": "0n1EX_Yj28lT",
        "outputId": "e58e4307-6c0a-4f9b-cf0d-ed20cf023c4a"
      },
      "execution_count": null,
      "outputs": [
        {
          "output_type": "stream",
          "name": "stderr",
          "text": [
            "WARNING:tensorflow:From <ipython-input-20-0363ae5c8ae8>:1: dense (from tensorflow.python.layers.core) is deprecated and will be removed in a future version.\n",
            "Instructions for updating:\n",
            "Use keras.layers.Dense instead.\n",
            "WARNING:tensorflow:From /usr/local/lib/python3.7/dist-packages/tensorflow_core/python/layers/core.py:187: Layer.apply (from tensorflow.python.keras.engine.base_layer) is deprecated and will be removed in a future version.\n",
            "Instructions for updating:\n",
            "Please use `layer.__call__` method instead.\n"
          ]
        }
      ]
    },
    {
      "cell_type": "code",
      "source": [
        "# Dataset preparation\n",
        "\n",
        "# Shuffle the dataset\n",
        "np.random.shuffle(img_database)\n",
        "\n",
        "X_train = img_database\n",
        "\n",
        "# Normalize the dataset\n",
        "X_train = X_train\n",
        "\n",
        "# Create a noisy dataset\n",
        "X_train_noisy = X_train + 10* np.random.normal(0,1, size = X_train.shape)\n",
        "\n",
        "#Original image\n",
        "plt.imshow(X_train[0].reshape(28,28), cmap = 'gray')\n",
        "plt.show()\n",
        "\n",
        "#Noisy image\n",
        "plt.imshow(X_train_noisy[0].reshape(28,28), cmap = 'gray')\n",
        "plt.show()"
      ],
      "metadata": {
        "colab": {
          "base_uri": "https://localhost:8080/",
          "height": 513
        },
        "id": "UNJ2B60Q3Fx0",
        "outputId": "51916e12-290d-417f-cda7-4a0d05f88f15"
      },
      "execution_count": null,
      "outputs": [
        {
          "output_type": "display_data",
          "data": {
            "text/plain": [
              "<Figure size 432x288 with 1 Axes>"
            ],
            "image/png": "[encoded data removed]"
          },
          "metadata": {
            "needs_background": "light"
          }
        },
        {
          "output_type": "display_data",
          "data": {
            "text/plain": [
              "<Figure size 432x288 with 1 Axes>"
            ],
            "image/png": "[encoded data removed]"
          },
          "metadata": {
            "needs_background": "light"
          }
        }
      ]
    },
    {
      "cell_type": "markdown",
      "source": [
        "# New Section"
      ],
      "metadata": {
        "id": "LLL9S1xh3djU"
      }
    },
    {
      "cell_type": "code",
      "source": [
        "#Define the metrics\n",
        "\n",
        "# The loss function\n",
        "computed_loss = tf.reduce_mean(tf.square(NN_output-Y))\n",
        "\n",
        "# Define the optimizer\n",
        "optimizer = tf.train.AdagradOptimizer(learning_rate).minimize(computed_loss)\n",
        "\n",
        "# Initialize the variables\n",
        "init = tf.global_variables_initializer()"
      ],
      "metadata": {
        "colab": {
          "base_uri": "https://localhost:8080/"
        },
        "id": "vVezK5y53GSv",
        "outputId": "d5b0d0ab-f48e-4b4a-9c05-be5de70329ca"
      },
      "execution_count": null,
      "outputs": [
        {
          "output_type": "stream",
          "name": "stderr",
          "text": [
            "WARNING:tensorflow:From /usr/local/lib/python3.7/dist-packages/tensorflow_core/python/training/adagrad.py:76: calling Constant.__init__ (from tensorflow.python.ops.init_ops) with dtype is deprecated and will be removed in a future version.\n",
            "Instructions for updating:\n",
            "Call initializer instance with the dtype argument instead of passing it to the constructor\n"
          ]
        }
      ]
    },
    {
      "cell_type": "code",
      "source": [
        "sess = tf.Session()\n",
        "sess.run(init)\n",
        "for epoch in range(epochs):\n",
        "  for i in range(int(total_num_images/batch_size)):\n",
        "    X_epoch = X_train[ i*batch_size : (i+1)*batch_size ]\n",
        "    X_noise_epoch = X_train_noisy[ i*batch_size : (i+1)*batch_size ]\n",
        "    _, loss = sess.run([optimizer, computed_loss], feed_dict = {X: X_noise_epoch, Y: X_epoch})\n",
        "  print('Epoch', epoch, '/', epochs, 'loss:', loss)\n",
        "\n",
        "# pick any image\n",
        "X_actual = X_train[:10]\n",
        "noisy_image = X_train_noisy[:10]\n",
        "\n",
        "# run it though the autoencoder\n",
        "denoised_image = sess.run(NN_output, feed_dict={X:noisy_image})"
      ],
      "metadata": {
        "colab": {
          "base_uri": "https://localhost:8080/"
        },
        "id": "0aXoTpMw3KVh",
        "outputId": "ebadec3e-262a-4e25-cee3-e155bc17b990"
      },
      "execution_count": null,
      "outputs": [
        {
          "output_type": "stream",
          "name": "stdout",
          "text": [
            "Epoch 0 / 100 loss: 4791.928\n",
            "Epoch 1 / 100 loss: 4802.9873\n",
            "Epoch 2 / 100 loss: 4601.914\n",
            "Epoch 3 / 100 loss: 4464.3594\n",
            "Epoch 4 / 100 loss: 4319.7573\n",
            "Epoch 5 / 100 loss: 4158.0938\n",
            "Epoch 6 / 100 loss: 4071.0188\n",
            "Epoch 7 / 100 loss: 4043.6113\n",
            "Epoch 8 / 100 loss: 3988.2817\n",
            "Epoch 9 / 100 loss: 3949.3367\n",
            "Epoch 10 / 100 loss: 3925.9363\n",
            "Epoch 11 / 100 loss: 3929.7231\n",
            "Epoch 12 / 100 loss: 3936.8003\n",
            "Epoch 13 / 100 loss: 3905.9956\n",
            "Epoch 14 / 100 loss: 3902.7898\n",
            "Epoch 15 / 100 loss: 3913.1343\n",
            "Epoch 16 / 100 loss: 3890.6162\n",
            "Epoch 17 / 100 loss: 3964.969\n",
            "Epoch 18 / 100 loss: 3955.9768\n",
            "Epoch 19 / 100 loss: 3954.2285\n",
            "Epoch 20 / 100 loss: 3890.3687\n",
            "Epoch 21 / 100 loss: 3922.036\n",
            "Epoch 22 / 100 loss: 3907.7954\n",
            "Epoch 23 / 100 loss: 3931.1797\n",
            "Epoch 24 / 100 loss: 3884.9558\n",
            "Epoch 25 / 100 loss: 3882.364\n",
            "Epoch 26 / 100 loss: 3857.297\n",
            "Epoch 27 / 100 loss: 3828.307\n",
            "Epoch 28 / 100 loss: 3855.7861\n",
            "Epoch 29 / 100 loss: 3855.5913\n",
            "Epoch 30 / 100 loss: 3848.3984\n",
            "Epoch 31 / 100 loss: 3858.7935\n",
            "Epoch 32 / 100 loss: 3861.9126\n",
            "Epoch 33 / 100 loss: 3855.68\n",
            "Epoch 34 / 100 loss: 3903.7146\n",
            "Epoch 35 / 100 loss: 3903.0278\n",
            "Epoch 36 / 100 loss: 3847.0005\n",
            "Epoch 37 / 100 loss: 3886.6074\n",
            "Epoch 38 / 100 loss: 3846.644\n",
            "Epoch 39 / 100 loss: 3825.7\n",
            "Epoch 40 / 100 loss: 3840.2703\n",
            "Epoch 41 / 100 loss: 3887.451\n",
            "Epoch 42 / 100 loss: 3891.765\n",
            "Epoch 43 / 100 loss: 3842.4285\n",
            "Epoch 44 / 100 loss: 3848.9224\n",
            "Epoch 45 / 100 loss: 3852.8384\n",
            "Epoch 46 / 100 loss: 3866.5405\n",
            "Epoch 47 / 100 loss: 3870.8433\n",
            "Epoch 48 / 100 loss: 3875.6343\n",
            "Epoch 49 / 100 loss: 3851.1992\n",
            "Epoch 50 / 100 loss: 3868.276\n",
            "Epoch 51 / 100 loss: 3895.1506\n",
            "Epoch 52 / 100 loss: 3888.7905\n",
            "Epoch 53 / 100 loss: 3846.5674\n",
            "Epoch 54 / 100 loss: 3831.2012\n",
            "Epoch 55 / 100 loss: 3823.5852\n",
            "Epoch 56 / 100 loss: 3834.834\n",
            "Epoch 57 / 100 loss: 3786.5615\n",
            "Epoch 58 / 100 loss: 3836.8523\n",
            "Epoch 59 / 100 loss: 3826.344\n",
            "Epoch 60 / 100 loss: 3894.0278\n",
            "Epoch 61 / 100 loss: 3861.431\n",
            "Epoch 62 / 100 loss: 3837.4124\n",
            "Epoch 63 / 100 loss: 3833.5056\n",
            "Epoch 64 / 100 loss: 3839.3845\n",
            "Epoch 65 / 100 loss: 3845.2769\n",
            "Epoch 66 / 100 loss: 3843.7654\n",
            "Epoch 67 / 100 loss: 3861.11\n",
            "Epoch 68 / 100 loss: 3852.7583\n",
            "Epoch 69 / 100 loss: 3833.5242\n",
            "Epoch 70 / 100 loss: 3832.5527\n",
            "Epoch 71 / 100 loss: 3855.9363\n",
            "Epoch 72 / 100 loss: 3821.1526\n",
            "Epoch 73 / 100 loss: 3809.0056\n",
            "Epoch 74 / 100 loss: 3819.722\n",
            "Epoch 75 / 100 loss: 3828.6628\n",
            "Epoch 76 / 100 loss: 3834.2952\n",
            "Epoch 77 / 100 loss: 3834.6074\n",
            "Epoch 78 / 100 loss: 3863.3176\n",
            "Epoch 79 / 100 loss: 3833.9314\n",
            "Epoch 80 / 100 loss: 3824.9167\n",
            "Epoch 81 / 100 loss: 3830.4856\n",
            "Epoch 82 / 100 loss: 3824.4695\n",
            "Epoch 83 / 100 loss: 3817.3433\n",
            "Epoch 84 / 100 loss: 3833.578\n",
            "Epoch 85 / 100 loss: 3830.7856\n",
            "Epoch 86 / 100 loss: 3826.3232\n",
            "Epoch 87 / 100 loss: 3792.3755\n",
            "Epoch 88 / 100 loss: 3829.9307\n",
            "Epoch 89 / 100 loss: 3835.0564\n",
            "Epoch 90 / 100 loss: 3864.6653\n",
            "Epoch 91 / 100 loss: 3845.605\n",
            "Epoch 92 / 100 loss: 3860.0461\n",
            "Epoch 93 / 100 loss: 3867.9265\n",
            "Epoch 94 / 100 loss: 3831.5425\n",
            "Epoch 95 / 100 loss: 3819.6726\n",
            "Epoch 96 / 100 loss: 3867.4783\n",
            "Epoch 97 / 100 loss: 3833.2527\n",
            "Epoch 98 / 100 loss: 3820.734\n",
            "Epoch 99 / 100 loss: 3818.3616\n"
          ]
        }
      ]
    },
    {
      "cell_type": "code",
      "source": [
        "X_actual = X_train[20:30]\n",
        "noisy_image = X_train_noisy[20:30]\n",
        "with tf.Session() as sess:\n",
        "  sess.run(init)\n",
        "  for epoch in range(epochs):\n",
        "    for i in range(int(total_num_images/batch_size)):\n",
        "      X_epoch = X_train[ i*batch_size : (i*1)*batch_size ]\n",
        "      X_noise_epoch = X_train_noisy[i*batch_size : (i*1)*batch_size ]\n",
        "      _, loss = sess.run([optimizer, computed_loss], feed_dict={X: X_noise_epoch, Y: X_epoch})\n",
        "    print('Epoch', epoch, '/', epochs, 'loss:', loss)\n",
        "  denoised_image = sess.run(NN_output, feed_dict = {X:noisy_image})\n",
        "\n",
        "#pick any image\n",
        "  \n",
        "\n",
        "# print the original image \n",
        "fig, axes = plt.subplots(nrows=3, ncols=10, sharex=True, sharey=True, figsize=(20,4))\n",
        "for images, row in zip([X_actual, noisy_image, denoised_image], axes):\n",
        "    for img, ax in zip(images,row):\n",
        "        ax.imshow(img.reshape((28,28)), cmap='gray')\n",
        "        ax.get_xaxis().set_visible(False)\n",
        "        ax.get_yaxis().set_visible(False)\n",
        "\n",
        "fig.tight_layout(pad=0.1)"
      ],
      "metadata": {
        "colab": {
          "base_uri": "https://localhost:8080/",
          "height": 1000
        },
        "id": "19XWsUw73Orq",
        "outputId": "9973c581-3a40-4f6a-f25f-fa183dd74537"
      },
      "execution_count": null,
      "outputs": [
        {
          "output_type": "stream",
          "name": "stdout",
          "text": [
            "Epoch 0 / 100 loss: nan\n",
            "Epoch 1 / 100 loss: nan\n",
            "Epoch 2 / 100 loss: nan\n",
            "Epoch 3 / 100 loss: nan\n",
            "Epoch 4 / 100 loss: nan\n",
            "Epoch 5 / 100 loss: nan\n",
            "Epoch 6 / 100 loss: nan\n",
            "Epoch 7 / 100 loss: nan\n",
            "Epoch 8 / 100 loss: nan\n",
            "Epoch 9 / 100 loss: nan\n",
            "Epoch 10 / 100 loss: nan\n",
            "Epoch 11 / 100 loss: nan\n",
            "Epoch 12 / 100 loss: nan\n",
            "Epoch 13 / 100 loss: nan\n",
            "Epoch 14 / 100 loss: nan\n",
            "Epoch 15 / 100 loss: nan\n",
            "Epoch 16 / 100 loss: nan\n",
            "Epoch 17 / 100 loss: nan\n",
            "Epoch 18 / 100 loss: nan\n",
            "Epoch 19 / 100 loss: nan\n",
            "Epoch 20 / 100 loss: nan\n",
            "Epoch 21 / 100 loss: nan\n",
            "Epoch 22 / 100 loss: nan\n",
            "Epoch 23 / 100 loss: nan\n",
            "Epoch 24 / 100 loss: nan\n",
            "Epoch 25 / 100 loss: nan\n",
            "Epoch 26 / 100 loss: nan\n",
            "Epoch 27 / 100 loss: nan\n",
            "Epoch 28 / 100 loss: nan\n",
            "Epoch 29 / 100 loss: nan\n",
            "Epoch 30 / 100 loss: nan\n",
            "Epoch 31 / 100 loss: nan\n",
            "Epoch 32 / 100 loss: nan\n",
            "Epoch 33 / 100 loss: nan\n",
            "Epoch 34 / 100 loss: nan\n",
            "Epoch 35 / 100 loss: nan\n",
            "Epoch 36 / 100 loss: nan\n",
            "Epoch 37 / 100 loss: nan\n",
            "Epoch 38 / 100 loss: nan\n",
            "Epoch 39 / 100 loss: nan\n",
            "Epoch 40 / 100 loss: nan\n",
            "Epoch 41 / 100 loss: nan\n",
            "Epoch 42 / 100 loss: nan\n",
            "Epoch 43 / 100 loss: nan\n",
            "Epoch 44 / 100 loss: nan\n",
            "Epoch 45 / 100 loss: nan\n",
            "Epoch 46 / 100 loss: nan\n",
            "Epoch 47 / 100 loss: nan\n",
            "Epoch 48 / 100 loss: nan\n",
            "Epoch 49 / 100 loss: nan\n",
            "Epoch 50 / 100 loss: nan\n",
            "Epoch 51 / 100 loss: nan\n",
            "Epoch 52 / 100 loss: nan\n",
            "Epoch 53 / 100 loss: nan\n",
            "Epoch 54 / 100 loss: nan\n",
            "Epoch 55 / 100 loss: nan\n",
            "Epoch 56 / 100 loss: nan\n",
            "Epoch 57 / 100 loss: nan\n",
            "Epoch 58 / 100 loss: nan\n",
            "Epoch 59 / 100 loss: nan\n",
            "Epoch 60 / 100 loss: nan\n",
            "Epoch 61 / 100 loss: nan\n",
            "Epoch 62 / 100 loss: nan\n",
            "Epoch 63 / 100 loss: nan\n",
            "Epoch 64 / 100 loss: nan\n",
            "Epoch 65 / 100 loss: nan\n",
            "Epoch 66 / 100 loss: nan\n",
            "Epoch 67 / 100 loss: nan\n",
            "Epoch 68 / 100 loss: nan\n",
            "Epoch 69 / 100 loss: nan\n",
            "Epoch 70 / 100 loss: nan\n",
            "Epoch 71 / 100 loss: nan\n",
            "Epoch 72 / 100 loss: nan\n",
            "Epoch 73 / 100 loss: nan\n",
            "Epoch 74 / 100 loss: nan\n",
            "Epoch 75 / 100 loss: nan\n",
            "Epoch 76 / 100 loss: nan\n",
            "Epoch 77 / 100 loss: nan\n",
            "Epoch 78 / 100 loss: nan\n",
            "Epoch 79 / 100 loss: nan\n",
            "Epoch 80 / 100 loss: nan\n",
            "Epoch 81 / 100 loss: nan\n",
            "Epoch 82 / 100 loss: nan\n",
            "Epoch 83 / 100 loss: nan\n",
            "Epoch 84 / 100 loss: nan\n",
            "Epoch 85 / 100 loss: nan\n",
            "Epoch 86 / 100 loss: nan\n",
            "Epoch 87 / 100 loss: nan\n",
            "Epoch 88 / 100 loss: nan\n",
            "Epoch 89 / 100 loss: nan\n",
            "Epoch 90 / 100 loss: nan\n",
            "Epoch 91 / 100 loss: nan\n",
            "Epoch 92 / 100 loss: nan\n",
            "Epoch 93 / 100 loss: nan\n",
            "Epoch 94 / 100 loss: nan\n",
            "Epoch 95 / 100 loss: nan\n",
            "Epoch 96 / 100 loss: nan\n",
            "Epoch 97 / 100 loss: nan\n",
            "Epoch 98 / 100 loss: nan\n",
            "Epoch 99 / 100 loss: nan\n"
          ]
        },
        {
          "output_type": "display_data",
          "data": {
            "text/plain": [
              "<Figure size 1440x288 with 30 Axes>"
            ],
            "image/png": "[encoded data removed]"
          },
          "metadata": {
            "needs_background": "light"
          }
        }
      ]
    },
    {
      "cell_type": "code",
      "source": [],
      "metadata": {
        "id": "0wpNHvV13XZ0"
      },
      "execution_count": null,
      "outputs": []
    }
  ]
}